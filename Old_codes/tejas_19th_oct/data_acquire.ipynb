{
 "cells": [
  {
   "cell_type": "code",
   "execution_count": 13,
   "metadata": {},
   "outputs": [],
   "source": [
    "import requests\n",
    "import json\n",
    "import csv\n",
    "import time\n",
    "import os\n",
    "from datetime import datetime"
   ]
  },
  {
   "cell_type": "code",
   "execution_count": 53,
   "metadata": {},
   "outputs": [
    {
     "name": "stdout",
     "output_type": "stream",
     "text": [
      "Error: 401 - <!DOCTYPE html>\n",
      "<html lang=\"en\">\n",
      "<head>\n",
      "  <meta charset=\"UTF-8\">\n",
      "  <title>Resource not found</title>\n",
      "</head>\n",
      "<body style=\"background-color: #e8e8e8;\">\n",
      "  <div style=\"font-size: 32px; padding: 50px 25px; text-align: center;\">\n",
      "    Resource not found\n",
      "  </div>\n",
      "</body>\n",
      "</html>\n",
      "\n"
     ]
    }
   ],
   "source": [
    "import requests\n",
    "import pandas as pd\n",
    "\n",
    "# Define the URL and headers\n",
    "url = \"https://www.nseindia.com/api/equity-stockIndices?index=NIFTY%20TOTAL%20MARKET\"\n",
    "headers = {\n",
    "    \"User-Agent\": \"Mozilla/5.0 (Windows NT 10.0; Win64; x64) AppleWebKit/537.36 (KHTML, like Gecko) Chrome/58.0.3029.110 Safari/537.3\",\n",
    "    \"Accept\": \"application/json\",\n",
    "    \"Accept-Language\": \"en-US,en;q=0.9\"\n",
    "}\n",
    "\n",
    "# Make the request to the API\n",
    "response = requests.get(url, headers=headers)\n",
    "\n",
    "# Check if the request was successful\n",
    "if response.status_code == 200:\n",
    "    data = response.json()\n",
    "\n",
    "    # Extract the relevant data\n",
    "    nifty_data = data.get('data', [])\n",
    "\n",
    "    # Convert the data to a DataFrame\n",
    "    df = pd.DataFrame(nifty_data)\n",
    "\n",
    "    # Save the DataFrame to an Excel file\n",
    "    df.to_excel(\"nifty_data.xlsx\", index=False)\n",
    "    print(\"Data saved to nifty_data.xlsx\")\n",
    "else:\n",
    "    print(f\"Error: {response.status_code} - {response.text}\")\n"
   ]
  },
  {
   "cell_type": "markdown",
   "metadata": {},
   "source": [
    "https://www.nseindia.com/api/equity-stockIndices?index=NIFTY%20TOTAL%20MARKET"
   ]
  },
  {
   "cell_type": "code",
   "execution_count": 40,
   "metadata": {},
   "outputs": [
    {
     "name": "stdout",
     "output_type": "stream",
     "text": [
      "Opened the link in Google Chrome.\n",
      "Opened the link in Google Chrome.\n",
      "Opened the link in Google Chrome.\n",
      "Opened the link in Google Chrome.\n",
      "Opened the link in Google Chrome.\n",
      "Opened the link in Google Chrome.\n",
      "Opened the link in Google Chrome.\n",
      "Opened the link in Google Chrome.\n",
      "Opened the link in Google Chrome.\n",
      "Opened the link in Google Chrome.\n",
      "Opened the link in Google Chrome.\n"
     ]
    },
    {
     "ename": "KeyboardInterrupt",
     "evalue": "",
     "output_type": "error",
     "traceback": [
      "\u001b[0;31m---------------------------------------------------------------------------\u001b[0m",
      "\u001b[0;31mKeyboardInterrupt\u001b[0m                         Traceback (most recent call last)",
      "Cell \u001b[0;32mIn[40], line 17\u001b[0m\n\u001b[1;32m     14\u001b[0m \u001b[38;5;28mprint\u001b[39m(\u001b[38;5;124m\"\u001b[39m\u001b[38;5;124mOpened the link in Google Chrome.\u001b[39m\u001b[38;5;124m\"\u001b[39m)\n\u001b[1;32m     16\u001b[0m \u001b[38;5;66;03m# Wait for 1 minute before the next open\u001b[39;00m\n\u001b[0;32m---> 17\u001b[0m \u001b[43mtime\u001b[49m\u001b[38;5;241;43m.\u001b[39;49m\u001b[43msleep\u001b[49m\u001b[43m(\u001b[49m\u001b[38;5;241;43m6\u001b[39;49m\u001b[43m)\u001b[49m\n",
      "\u001b[0;31mKeyboardInterrupt\u001b[0m: "
     ]
    }
   ],
   "source": [
    "import webbrowser\n",
    "import time\n",
    "\n",
    "# URL of the NSE API endpoint\n",
    "url = \"https://www.nseindia.com/api/equity-stockIndices?index=NIFTY%20TOTAL%20MARKET\"\n",
    "\n",
    "# Path to Google Chrome on macOS\n",
    "chrome_path = \"/Applications/Google Chrome.app/Contents/MacOS/Google Chrome %s\"\n",
    "\n",
    "while True:\n",
    "    # Open the link in Google Chrome\n",
    "    webbrowser.get(f\"open -a 'Google Chrome' %s\").open(url)\n",
    "\n",
    "    print(\"Opened the link in Google Chrome.\")\n",
    "\n",
    "    # Wait for 1 minute before the next open\n",
    "    time.sleep(6)"
   ]
  },
  {
   "cell_type": "code",
   "execution_count": 38,
   "metadata": {},
   "outputs": [
    {
     "name": "stdout",
     "output_type": "stream",
     "text": [
      "Opened the link in the connected Chrome instance.\n",
      "Opened the link in the connected Chrome instance.\n"
     ]
    },
    {
     "ename": "KeyboardInterrupt",
     "evalue": "",
     "output_type": "error",
     "traceback": [
      "\u001b[0;31m---------------------------------------------------------------------------\u001b[0m",
      "\u001b[0;31mKeyboardInterrupt\u001b[0m                         Traceback (most recent call last)",
      "Cell \u001b[0;32mIn[38], line 21\u001b[0m\n\u001b[1;32m     18\u001b[0m         \u001b[38;5;28mprint\u001b[39m(\u001b[38;5;124m\"\u001b[39m\u001b[38;5;124mOpened the link in the connected Chrome instance.\u001b[39m\u001b[38;5;124m\"\u001b[39m)\n\u001b[1;32m     20\u001b[0m         \u001b[38;5;66;03m# Wait for 1 minute before the next open\u001b[39;00m\n\u001b[0;32m---> 21\u001b[0m         \u001b[43mtime\u001b[49m\u001b[38;5;241;43m.\u001b[39;49m\u001b[43msleep\u001b[49m\u001b[43m(\u001b[49m\u001b[38;5;241;43m20\u001b[39;49m\u001b[43m)\u001b[49m\n\u001b[1;32m     23\u001b[0m \u001b[38;5;28;01mfinally\u001b[39;00m:\n\u001b[1;32m     24\u001b[0m     driver\u001b[38;5;241m.\u001b[39mquit()  \u001b[38;5;66;03m# Optional: Quit the driver when done\u001b[39;00m\n",
      "\u001b[0;31mKeyboardInterrupt\u001b[0m: "
     ]
    }
   ],
   "source": [
    "import time\n",
    "from selenium import webdriver\n",
    "\n",
    "# URL of the NSE API endpoint\n",
    "url = \"https://www.nseindia.com/api/equity-stockIndices?index=NIFTY%20TOTAL%20MARKET\"\n",
    "\n",
    "# Set up Chrome options to connect to the existing browser\n",
    "options = webdriver.ChromeOptions()\n",
    "options.debugger_address = \"localhost:9222\"\n",
    "\n",
    "# Initialize the WebDriver\n",
    "driver = webdriver.Chrome(options=options)\n",
    "\n",
    "try:\n",
    "    while True:\n",
    "        # Open the link in the connected Chrome instance\n",
    "        driver.get(url)\n",
    "        print(\"Opened the link in the connected Chrome instance.\")\n",
    "\n",
    "        # Wait for 1 minute before the next open\n",
    "        time.sleep(20)\n",
    "\n",
    "finally:\n",
    "    driver.quit()  # Optional: Quit the driver when done"
   ]
  },
  {
   "cell_type": "code",
   "execution_count": 46,
   "metadata": {},
   "outputs": [
    {
     "name": "stdout",
     "output_type": "stream",
     "text": [
      "Failed to fetch data: 401\n",
      "Data fetched and saved to nifty_data.json.\n",
      "Data fetched and saved to nifty_data.json.\n",
      "Failed to fetch data: 401\n",
      "Failed to fetch data: 401\n",
      "Failed to fetch data: 401\n",
      "Failed to fetch data: 401\n",
      "Failed to fetch data: 401\n",
      "Failed to fetch data: 401\n",
      "Failed to fetch data: 401\n"
     ]
    },
    {
     "ename": "KeyboardInterrupt",
     "evalue": "",
     "output_type": "error",
     "traceback": [
      "\u001b[0;31m---------------------------------------------------------------------------\u001b[0m",
      "\u001b[0;31mKeyboardInterrupt\u001b[0m                         Traceback (most recent call last)",
      "Cell \u001b[0;32mIn[46], line 34\u001b[0m\n\u001b[1;32m     32\u001b[0m \u001b[38;5;28;01mwhile\u001b[39;00m \u001b[38;5;28;01mTrue\u001b[39;00m:\n\u001b[1;32m     33\u001b[0m     fetch_data()  \u001b[38;5;66;03m# Fetch data from the API\u001b[39;00m\n\u001b[0;32m---> 34\u001b[0m     \u001b[43mtime\u001b[49m\u001b[38;5;241;43m.\u001b[39;49m\u001b[43msleep\u001b[49m\u001b[43m(\u001b[49m\u001b[38;5;241;43m6\u001b[39;49m\u001b[43m)\u001b[49m  \u001b[38;5;66;03m# Wait for 1 minute before the next request\u001b[39;00m\n",
      "\u001b[0;31mKeyboardInterrupt\u001b[0m: "
     ]
    }
   ],
   "source": [
    "import requests\n",
    "import json\n",
    "import webbrowser\n",
    "import time\n",
    "\n",
    "# URL of the NSE API endpoint\n",
    "url = \"https://www.nseindia.com/api/equity-stockIndices?index=NIFTY%20TOTAL%20MARKET\"\n",
    "\n",
    "# Path to Google Chrome on macOS\n",
    "chrome_path = \"/Applications/Google Chrome.app/Contents/MacOS/Google Chrome %s\"\n",
    "\n",
    "# Function to fetch data from the API\n",
    "def fetch_data():\n",
    "    try:\n",
    "        headers = {\n",
    "            \"User-Agent\": \"Mozilla/5.0 (Macintosh; Intel Mac OS X 10_15_7) AppleWebKit/537.36 (KHTML, like Gecko) Chrome/92.0.4515.131 Safari/537.36\"\n",
    "        }\n",
    "        response = requests.get(url, headers=headers)\n",
    "        if response.status_code == 200:\n",
    "            data = response.json()\n",
    "            with open(\"nifty_data.json\", \"w\") as f:\n",
    "                json.dump(data, f, indent=4)\n",
    "            print(\"Data fetched and saved to nifty_data.json.\")\n",
    "        else:\n",
    "            print(f\"Failed to fetch data: {response.status_code}\")\n",
    "    except Exception as e:\n",
    "        print(f\"An error occurred: {e}\")\n",
    "\n",
    "# Open the link in Google Chrome\n",
    "webbrowser.get(f\"open -a 'Google Chrome' %s\").open(url)\n",
    "\n",
    "while True:\n",
    "    fetch_data()  # Fetch data from the API\n",
    "    time.sleep(6)  # Wait for 1 minute before the next request"
   ]
  },
  {
   "cell_type": "code",
   "execution_count": 49,
   "metadata": {},
   "outputs": [
    {
     "name": "stdout",
     "output_type": "stream",
     "text": [
      "Failed to fetch data: 401\n",
      "Failed to fetch data: 401\n"
     ]
    },
    {
     "ename": "KeyboardInterrupt",
     "evalue": "",
     "output_type": "error",
     "traceback": [
      "\u001b[0;31m---------------------------------------------------------------------------\u001b[0m",
      "\u001b[0;31mKeyboardInterrupt\u001b[0m                         Traceback (most recent call last)",
      "Cell \u001b[0;32mIn[49], line 36\u001b[0m\n\u001b[1;32m     34\u001b[0m \u001b[38;5;28;01mwhile\u001b[39;00m \u001b[38;5;28;01mTrue\u001b[39;00m:\n\u001b[1;32m     35\u001b[0m     fetch_data()  \u001b[38;5;66;03m# Fetch data from the API\u001b[39;00m\n\u001b[0;32m---> 36\u001b[0m     \u001b[43mtime\u001b[49m\u001b[38;5;241;43m.\u001b[39;49m\u001b[43msleep\u001b[49m\u001b[43m(\u001b[49m\u001b[38;5;241;43m30\u001b[39;49m\u001b[43m)\u001b[49m  \u001b[38;5;66;03m# Wait for 1 minute before the next request\u001b[39;00m\n",
      "\u001b[0;31mKeyboardInterrupt\u001b[0m: "
     ]
    }
   ],
   "source": [
    "import requests\n",
    "import json\n",
    "import webbrowser\n",
    "import time\n",
    "\n",
    "# URL of the NSE API endpoint\n",
    "url = \"https://www.nseindia.com/api/equity-stockIndices?index=NIFTY%20TOTAL%20MARKET\"\n",
    "\n",
    "# Open the link in Google Chrome for visual inspection\n",
    "webbrowser.get(f\"open -a 'Google Chrome' %s\").open(url)\n",
    "\n",
    "# Function to fetch data from the API\n",
    "def fetch_data():\n",
    "    try:\n",
    "        headers = {\n",
    "            \"User-Agent\": \"Mozilla/5.0 (Macintosh; Intel Mac OS X 10_15_7) AppleWebKit/537.36 (KHTML, like Gecko) Chrome/92.0.4515.131 Safari/537.36\",\n",
    "            \"Accept\": \"application/json, text/plain, */*\",\n",
    "            \"Accept-Language\": \"en-US,en;q=0.9\",\n",
    "            \"Referer\": \"https://www.nseindia.com\",\n",
    "            \"Origin\": \"https://www.nseindia.com\"\n",
    "        }\n",
    "        \n",
    "        response = requests.get(url, headers=headers)\n",
    "        if response.status_code == 200:\n",
    "            data = response.json()\n",
    "            with open(\"nifty_data_final.json\", \"w\") as f:\n",
    "                json.dump(data, f, indent=4)\n",
    "            print(\"Data fetched and saved to nifty_data.json.\")\n",
    "        else:\n",
    "            print(f\"Failed to fetch data: {response.status_code}\")\n",
    "    except Exception as e:\n",
    "        print(f\"An error occurred: {e}\")\n",
    "\n",
    "while True:\n",
    "    fetch_data()  # Fetch data from the API\n",
    "    time.sleep(30)  # Wait for 1 minute before the next request"
   ]
  },
  {
   "cell_type": "code",
   "execution_count": null,
   "metadata": {},
   "outputs": [],
   "source": []
  }
 ],
 "metadata": {
  "kernelspec": {
   "display_name": "my_env",
   "language": "python",
   "name": "python3"
  },
  "language_info": {
   "codemirror_mode": {
    "name": "ipython",
    "version": 3
   },
   "file_extension": ".py",
   "mimetype": "text/x-python",
   "name": "python",
   "nbconvert_exporter": "python",
   "pygments_lexer": "ipython3",
   "version": "3.12.5"
  }
 },
 "nbformat": 4,
 "nbformat_minor": 2
}
