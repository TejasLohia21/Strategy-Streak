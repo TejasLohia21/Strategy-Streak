{
 "cells": [
  {
   "cell_type": "code",
   "execution_count": 2,
   "metadata": {},
   "outputs": [],
   "source": [
    "import numpy\n",
    "import yfinance as yf"
   ]
  },
  {
   "cell_type": "code",
   "execution_count": 3,
   "metadata": {},
   "outputs": [
    {
     "name": "stderr",
     "output_type": "stream",
     "text": [
      "[*********************100%***********************]  1 of 1 completed"
     ]
    },
    {
     "name": "stdout",
     "output_type": "stream",
     "text": [
      "                   Open         High          Low        Close    Adj Close  \\\n",
      "Date                                                                          \n",
      "2023-01-03  2369.986328  2374.878174  2351.849365  2360.110107  2343.846436   \n",
      "2023-01-04  2361.956055  2362.510010  2321.205811  2324.251709  2308.235107   \n",
      "2023-01-05  2330.574219  2340.727295  2311.421875  2319.959717  2303.972656   \n",
      "2023-01-06  2334.266113  2351.341553  2324.713135  2341.880859  2325.742676   \n",
      "2023-01-09  2347.834229  2401.460449  2343.588379  2396.614746  2380.099609   \n",
      "\n",
      "            Volume  \n",
      "Date                \n",
      "2023-01-03  147480  \n",
      "2023-01-04  187352  \n",
      "2023-01-05  155912  \n",
      "2023-01-06  123070  \n",
      "2023-01-09  323393  \n"
     ]
    },
    {
     "name": "stderr",
     "output_type": "stream",
     "text": [
      "\n"
     ]
    }
   ],
   "source": [
    "\n",
    "\n",
    "# List of BSE stock tickers (these are examples)\n",
    "bse_tickers = [\"500325.BO\"]  # Add more tickers as needed\n",
    "\n",
    "# Download data for all tickers\n",
    "data = yf.download(bse_tickers, start=\"2023-01-01\", end=\"2024-01-01\")\n",
    "\n",
    "print(data.head())  # Display the first few rows of data"
   ]
  }
 ],
 "metadata": {
  "kernelspec": {
   "display_name": "my_env",
   "language": "python",
   "name": "python3"
  },
  "language_info": {
   "codemirror_mode": {
    "name": "ipython",
    "version": 3
   },
   "file_extension": ".py",
   "mimetype": "text/x-python",
   "name": "python",
   "nbconvert_exporter": "python",
   "pygments_lexer": "ipython3",
   "version": "3.12.5"
  }
 },
 "nbformat": 4,
 "nbformat_minor": 2
}
